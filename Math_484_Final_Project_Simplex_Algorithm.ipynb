{
  "cells": [
    {
      "cell_type": "markdown",
      "metadata": {
        "id": "view-in-github",
        "colab_type": "text"
      },
      "source": [
        "<a href=\"https://colab.research.google.com/github/marhoayan/Ds220Web/blob/main/Math_484_Final_Project_Simplex_Algorithm.ipynb\" target=\"_parent\"><img src=\"https://colab.research.google.com/assets/colab-badge.svg\" alt=\"Open In Colab\"/></a>"
      ]
    },
    {
      "cell_type": "markdown",
      "source": [
        "# **Setting Up The Jupyter Notebook**"
      ],
      "metadata": {
        "id": "728SGZi3_nJx"
      }
    },
    {
      "cell_type": "code",
      "source": [
        "from sympy import init_session"
      ],
      "metadata": {
        "id": "piJPth3s_wbH"
      },
      "execution_count": null,
      "outputs": []
    },
    {
      "cell_type": "code",
      "source": [
        "init_session()"
      ],
      "metadata": {
        "colab": {
          "base_uri": "https://localhost:8080/"
        },
        "id": "Ja6yoeu-AeLO",
        "outputId": "934678ea-0e0a-4e51-bf5d-5db124a6a444"
      },
      "execution_count": null,
      "outputs": [
        {
          "output_type": "stream",
          "name": "stdout",
          "text": [
            "IPython console for SymPy 1.13.1 (Python 3.10.12-64-bit) (ground types: python)\n",
            "\n",
            "These commands were executed:\n",
            ">>> from sympy import *\n",
            ">>> x, y, z, t = symbols('x y z t')\n",
            ">>> k, m, n = symbols('k m n', integer=True)\n",
            ">>> f, g, h = symbols('f g h', cls=Function)\n",
            ">>> init_printing()\n",
            "\n",
            "Documentation can be found at https://docs.sympy.org/1.13.1/\n",
            "\n"
          ]
        }
      ]
    },
    {
      "cell_type": "markdown",
      "source": [
        "Creating The Big M"
      ],
      "metadata": {
        "id": "6vQlW2-ZAj68"
      }
    },
    {
      "cell_type": "code",
      "source": [
        "M = symbols('M',integer =True ,positive =True)"
      ],
      "metadata": {
        "id": "lri4qH_2An6a"
      },
      "execution_count": null,
      "outputs": []
    },
    {
      "cell_type": "markdown",
      "source": [
        "# **Feeding Python The Initial Tableau**"
      ],
      "metadata": {
        "id": "i61L26T_BSfd"
      }
    },
    {
      "cell_type": "code",
      "source": [
        "T = Matrix([[-20*M,-5-15*M,5+15*M,2+3*M,2,-2,4-10*M,M,M,-M,-M,M,-M,0,0,0,0,0,0],\n",
        "          [2,2,-2,-2,-1,1,3,-1,0,0,0,0,0,1,0,0,0,0,0],\n",
        "          [1,2,-2,-4,7,-7,6,0,-1,0,0,0,0,0,1,0,0,0,0],\n",
        "          [2,5,-5,4,-8,8,1,0,0,1,0,0,0,0,0,1,0,0,0],\n",
        "          [4,3,-3,-6,1,-1,2,0,0,0,1,0,0,0,0,0,1,0,0],\n",
        "          [8,1,-1,2,-3,3,7,0,0,0,0,-1,0,0,0,0,0,1,0],\n",
        "          [3,2,-2,3,4,-4,-9,0,0,0,0,0,1,0,0,0,0,0,1]])\n"
      ],
      "metadata": {
        "id": "o3Y-P5WoBLHq"
      },
      "execution_count": null,
      "outputs": []
    },
    {
      "cell_type": "code",
      "source": [
        "T"
      ],
      "metadata": {
        "colab": {
          "base_uri": "https://localhost:8080/",
          "height": 159
        },
        "id": "Tho-nzzLYkeg",
        "outputId": "ba02ba3d-a357-4712-d5e6-0468e7a194da"
      },
      "execution_count": null,
      "outputs": [
        {
          "output_type": "execute_result",
          "data": {
            "text/plain": [
              "⎡-20⋅M  -15⋅M - 5  15⋅M + 5  3⋅M + 2  2   -2  4 - 10⋅M  M   M   -M  -M  M   -M  0  0  0  0  0  0⎤\n",
              "⎢                                                                                               ⎥\n",
              "⎢  2        2         -2       -2     -1  1      3      -1  0   0   0   0   0   1  0  0  0  0  0⎥\n",
              "⎢                                                                                               ⎥\n",
              "⎢  1        2         -2       -4     7   -7     6      0   -1  0   0   0   0   0  1  0  0  0  0⎥\n",
              "⎢                                                                                               ⎥\n",
              "⎢  2        5         -5        4     -8  8      1      0   0   1   0   0   0   0  0  1  0  0  0⎥\n",
              "⎢                                                                                               ⎥\n",
              "⎢  4        3         -3       -6     1   -1     2      0   0   0   1   0   0   0  0  0  1  0  0⎥\n",
              "⎢                                                                                               ⎥\n",
              "⎢  8        1         -1        2     -3  3      7      0   0   0   0   -1  0   0  0  0  0  1  0⎥\n",
              "⎢                                                                                               ⎥\n",
              "⎣  3        2         -2        3     4   -4     -9     0   0   0   0   0   1   0  0  0  0  0  1⎦"
            ],
            "text/latex": "$\\displaystyle \\left[\\begin{array}{ccccccccccccccccccc}- 20 M & - 15 M - 5 & 15 M + 5 & 3 M + 2 & 2 & -2 & 4 - 10 M & M & M & - M & - M & M & - M & 0 & 0 & 0 & 0 & 0 & 0\\\\2 & 2 & -2 & -2 & -1 & 1 & 3 & -1 & 0 & 0 & 0 & 0 & 0 & 1 & 0 & 0 & 0 & 0 & 0\\\\1 & 2 & -2 & -4 & 7 & -7 & 6 & 0 & -1 & 0 & 0 & 0 & 0 & 0 & 1 & 0 & 0 & 0 & 0\\\\2 & 5 & -5 & 4 & -8 & 8 & 1 & 0 & 0 & 1 & 0 & 0 & 0 & 0 & 0 & 1 & 0 & 0 & 0\\\\4 & 3 & -3 & -6 & 1 & -1 & 2 & 0 & 0 & 0 & 1 & 0 & 0 & 0 & 0 & 0 & 1 & 0 & 0\\\\8 & 1 & -1 & 2 & -3 & 3 & 7 & 0 & 0 & 0 & 0 & -1 & 0 & 0 & 0 & 0 & 0 & 1 & 0\\\\3 & 2 & -2 & 3 & 4 & -4 & -9 & 0 & 0 & 0 & 0 & 0 & 1 & 0 & 0 & 0 & 0 & 0 & 1\\end{array}\\right]$"
          },
          "metadata": {},
          "execution_count": 6
        }
      ]
    },
    {
      "cell_type": "markdown",
      "source": [
        "Recall: My choice for the initial basic variables was ${y_1,y_2,y_3,y_4,y_5,y_6}$"
      ],
      "metadata": {
        "id": "t0gUqSuGaWFl"
      }
    },
    {
      "cell_type": "markdown",
      "source": [
        "# **First Pivot**"
      ],
      "metadata": {
        "id": "hfB2wrkdZWEK"
      }
    },
    {
      "cell_type": "markdown",
      "source": [
        "The reduced cost in column 1 is negative: $(x^+_1 = -15M-5)$. I choose column 1 as my pivot column. The variable $x^+_1$ will enter the basis.\n",
        "\n",
        "Now let's compute the ratios $\\frac{x_b(i)}{u(i)}$ for each\n",
        "$u_i$"
      ],
      "metadata": {
        "id": "3IfCxviTbUa0"
      }
    },
    {
      "cell_type": "code",
      "source": [
        "[ T[i,0] / T[i,1] for i in range (1,7) ]"
      ],
      "metadata": {
        "colab": {
          "base_uri": "https://localhost:8080/",
          "height": 58
        },
        "id": "LsQ0_yQVaNDm",
        "outputId": "0072224d-72ae-4606-c627-df836ef58a6b"
      },
      "execution_count": null,
      "outputs": [
        {
          "output_type": "execute_result",
          "data": {
            "text/plain": [
              "[1, 1/2, 2/5, 4/3, 8, 3/2]"
            ],
            "text/latex": "$\\displaystyle \\left[ 1, \\  \\frac{1}{2}, \\  \\frac{2}{5}, \\  \\frac{4}{3}, \\  8, \\  \\frac{3}{2}\\right]$"
          },
          "metadata": {},
          "execution_count": 7
        }
      ]
    },
    {
      "cell_type": "code",
      "source": [
        "[0. + T[i,0] / T[i,1] for i in range (1,7) ]"
      ],
      "metadata": {
        "colab": {
          "base_uri": "https://localhost:8080/",
          "height": 37
        },
        "id": "H-dZp-HfycFD",
        "outputId": "53771a8a-920f-4056-8905-ac5876727d7d"
      },
      "execution_count": null,
      "outputs": [
        {
          "output_type": "execute_result",
          "data": {
            "text/plain": [
              "[1.0, 0.5, 0.4, 1.33333333333333, 8.0, 1.5]"
            ],
            "text/latex": "$\\displaystyle \\left[ 1.0, \\  0.5, \\  0.4, \\  1.33333333333333, \\  8.0, \\  1.5\\right]$"
          },
          "metadata": {},
          "execution_count": 8
        }
      ]
    },
    {
      "cell_type": "markdown",
      "source": [
        "The minimum ratio is $\\frac{2}{5}$. It occurs in row 3. I choose row 3 as my pivot row. $x_b(3) = y_3$ will exit the basis.\n",
        "\n",
        "\n",
        "Now, we need to compute the elementary row operations of the pivot.\n",
        "\n",
        "\n",
        "Replace Row 0 by itself plus $\\frac{15M+5}{5}$ times the pivot row(i.e row 3)"
      ],
      "metadata": {
        "id": "DjoJTMMmf_OF"
      }
    },
    {
      "cell_type": "code",
      "source": [
        "T = T . elementary_row_op(op = 'n->n+km',row = 0,k=(15*M+5)/5,row2 = 3)"
      ],
      "metadata": {
        "id": "jRRh83VTiM1u"
      },
      "execution_count": null,
      "outputs": []
    },
    {
      "cell_type": "markdown",
      "source": [
        "Replace Row 1 by itself plus $\\frac{-2}{5}$ times the pivot row(i.e row 3)"
      ],
      "metadata": {
        "id": "M_IyQcfllzcn"
      }
    },
    {
      "cell_type": "code",
      "source": [
        "T = T . elementary_row_op(op = 'n->n+km',row = 1,k=-Rational(2,5),row2 = 3)"
      ],
      "metadata": {
        "id": "dcafwcHQmaaO"
      },
      "execution_count": null,
      "outputs": []
    },
    {
      "cell_type": "markdown",
      "source": [
        "Replace Row 2 by itself plus $\\frac{-2}{5}$ times the pivot row(i.e row 3)"
      ],
      "metadata": {
        "id": "B1omKblEs4_d"
      }
    },
    {
      "cell_type": "code",
      "source": [
        "T = T . elementary_row_op(op = 'n->n+km',row = 2,k=-Rational(2,5),row2 = 3)"
      ],
      "metadata": {
        "id": "38LNOrnkmstN"
      },
      "execution_count": null,
      "outputs": []
    },
    {
      "cell_type": "markdown",
      "source": [
        "Replace Row 4 by itself plus $\\frac{-3}{5}$ times the pivot row(i.e row 3)"
      ],
      "metadata": {
        "id": "BXH7cZE7tCWP"
      }
    },
    {
      "cell_type": "code",
      "source": [
        "T = T . elementary_row_op(op = 'n->n+km',row = 4,k=-Rational(3,5),row2 = 3)"
      ],
      "metadata": {
        "id": "RGsvLB9jpAvS"
      },
      "execution_count": null,
      "outputs": []
    },
    {
      "cell_type": "markdown",
      "source": [
        "Replace Row 5 by itself plus $\\frac{-1}{5}$ times the pivot row(i.e row 3)"
      ],
      "metadata": {
        "id": "L2FBrgvXtF8H"
      }
    },
    {
      "cell_type": "code",
      "source": [
        "T = T . elementary_row_op(op = 'n->n+km',row = 5,k=-Rational(1,5),row2 = 3)"
      ],
      "metadata": {
        "id": "KKttnZwepUtk"
      },
      "execution_count": null,
      "outputs": []
    },
    {
      "cell_type": "markdown",
      "source": [
        "Replace Row 6 by itself plus $\\frac{-2}{5}$ times the pivot row(i.e row 3)"
      ],
      "metadata": {
        "id": "DsEbPpEDtQmP"
      }
    },
    {
      "cell_type": "code",
      "source": [
        "T = T . elementary_row_op(op = 'n->n+km',row = 6,k=-Rational(2,5),row2 = 3)"
      ],
      "metadata": {
        "id": "-UqLB1Kjpmw4"
      },
      "execution_count": null,
      "outputs": []
    },
    {
      "cell_type": "markdown",
      "source": [
        "Multiply the pivot row(row 3) by $\\frac{1}{5}$"
      ],
      "metadata": {
        "id": "Po3qDZI4tX_J"
      }
    },
    {
      "cell_type": "code",
      "source": [
        "T = T . elementary_row_op(op = 'n->kn',row = 3,k = Rational(1,5))"
      ],
      "metadata": {
        "id": "sxO9JDtsp9Kw"
      },
      "execution_count": null,
      "outputs": []
    },
    {
      "cell_type": "markdown",
      "source": [
        "Updated tableau:"
      ],
      "metadata": {
        "id": "n9R7M4gCtn_P"
      }
    },
    {
      "cell_type": "code",
      "source": [
        "T"
      ],
      "metadata": {
        "colab": {
          "base_uri": "https://localhost:8080/",
          "height": 160
        },
        "id": "zZNJEsOLq6SY",
        "outputId": "a9b99235-7e54-4672-f446-17ad29ef710d"
      },
      "execution_count": null,
      "outputs": [
        {
          "output_type": "execute_result",
          "data": {
            "text/plain": [
              "⎡2 - 14⋅M  0  0   15⋅M + 6  -24⋅M - 6  24⋅M + 6  5 - 7⋅M  M   M   2⋅M + 1  -M  M   -M  0  0  3⋅M + ↪\n",
              "⎢                                                                                                  ↪\n",
              "⎢  6/5     0  0    -18/5      11/5      -11/5     13/5    -1  0    -2/5    0   0   0   1  0   -2/5 ↪\n",
              "⎢                                                                                                  ↪\n",
              "⎢  1/5     0  0    -28/5      51/5      -51/5     28/5    0   -1   -2/5    0   0   0   0  1   -2/5 ↪\n",
              "⎢                                                                                                  ↪\n",
              "⎢  2/5     1  -1    4/5       -8/5       8/5       1/5    0   0     1/5    0   0   0   0  0    1/5 ↪\n",
              "⎢                                                                                                  ↪\n",
              "⎢  14/5    0  0    -42/5      29/5      -29/5      7/5    0   0    -3/5    1   0   0   0  0   -3/5 ↪\n",
              "⎢                                                                                                  ↪\n",
              "⎢  38/5    0  0     6/5       -7/5       7/5      34/5    0   0    -1/5    0   -1  0   0  0   -1/5 ↪\n",
              "⎢                                                                                                  ↪\n",
              "⎣  11/5    0  0     7/5       36/5      -36/5     -47/5   0   0    -2/5    0   0   1   0  0   -2/5 ↪\n",
              "\n",
              "↪  1  0  0  0⎤\n",
              "↪            ⎥\n",
              "↪     0  0  0⎥\n",
              "↪            ⎥\n",
              "↪     0  0  0⎥\n",
              "↪            ⎥\n",
              "↪     0  0  0⎥\n",
              "↪            ⎥\n",
              "↪     1  0  0⎥\n",
              "↪            ⎥\n",
              "↪     0  1  0⎥\n",
              "↪            ⎥\n",
              "↪     0  0  1⎦"
            ],
            "text/latex": "$\\displaystyle \\left[\\begin{array}{ccccccccccccccccccc}2 - 14 M & 0 & 0 & 15 M + 6 & - 24 M - 6 & 24 M + 6 & 5 - 7 M & M & M & 2 M + 1 & - M & M & - M & 0 & 0 & 3 M + 1 & 0 & 0 & 0\\\\\\frac{6}{5} & 0 & 0 & - \\frac{18}{5} & \\frac{11}{5} & - \\frac{11}{5} & \\frac{13}{5} & -1 & 0 & - \\frac{2}{5} & 0 & 0 & 0 & 1 & 0 & - \\frac{2}{5} & 0 & 0 & 0\\\\\\frac{1}{5} & 0 & 0 & - \\frac{28}{5} & \\frac{51}{5} & - \\frac{51}{5} & \\frac{28}{5} & 0 & -1 & - \\frac{2}{5} & 0 & 0 & 0 & 0 & 1 & - \\frac{2}{5} & 0 & 0 & 0\\\\\\frac{2}{5} & 1 & -1 & \\frac{4}{5} & - \\frac{8}{5} & \\frac{8}{5} & \\frac{1}{5} & 0 & 0 & \\frac{1}{5} & 0 & 0 & 0 & 0 & 0 & \\frac{1}{5} & 0 & 0 & 0\\\\\\frac{14}{5} & 0 & 0 & - \\frac{42}{5} & \\frac{29}{5} & - \\frac{29}{5} & \\frac{7}{5} & 0 & 0 & - \\frac{3}{5} & 1 & 0 & 0 & 0 & 0 & - \\frac{3}{5} & 1 & 0 & 0\\\\\\frac{38}{5} & 0 & 0 & \\frac{6}{5} & - \\frac{7}{5} & \\frac{7}{5} & \\frac{34}{5} & 0 & 0 & - \\frac{1}{5} & 0 & -1 & 0 & 0 & 0 & - \\frac{1}{5} & 0 & 1 & 0\\\\\\frac{11}{5} & 0 & 0 & \\frac{7}{5} & \\frac{36}{5} & - \\frac{36}{5} & - \\frac{47}{5} & 0 & 0 & - \\frac{2}{5} & 0 & 0 & 1 & 0 & 0 & - \\frac{2}{5} & 0 & 0 & 1\\end{array}\\right]$"
          },
          "metadata": {},
          "execution_count": 16
        }
      ]
    },
    {
      "cell_type": "markdown",
      "source": [
        "New basic variables: ${y_1,y_2,x^+_1,y_4,y_5,y_6}$"
      ],
      "metadata": {
        "id": "xpvSd3Kgtw3E"
      }
    },
    {
      "cell_type": "markdown",
      "source": [
        "# **Second Pivot**"
      ],
      "metadata": {
        "id": "Zw7nYZJ8ysdA"
      }
    },
    {
      "cell_type": "markdown",
      "source": [
        "The reduced cost in column 4 is negative: $x^+_3$ $= -24M-6$. I choose column 4 as my pivot column.\n",
        "\n",
        "The variable $x^+_3$ will enter the basis.\n",
        "\n",
        "Now let's compute the ratios $\\frac{x_b(i)}{u(i)}$ for each\n",
        "$u_i$.\n",
        "\n",
        "I compute the ratios $\\frac{x_b(i)}{u(i)}$ for $i =1,2,4$ $and$ $6$ but not for $i = 3$ $and$ $5$ because $u_1,u_2,u_4$ $and$ $u_6$ are positive while $u_3$ $and$ $u_5$ are negative."
      ],
      "metadata": {
        "id": "mQm4Za3dywt6"
      }
    },
    {
      "cell_type": "code",
      "source": [
        "[T[i,0] / T[i,4] for i in [1,2,4,6]]"
      ],
      "metadata": {
        "colab": {
          "base_uri": "https://localhost:8080/",
          "height": 58
        },
        "id": "Jt4WMfj_1lk3",
        "outputId": "8d86e217-209e-40a6-f1b2-07bc929ef46a"
      },
      "execution_count": null,
      "outputs": [
        {
          "output_type": "execute_result",
          "data": {
            "text/plain": [
              "⎡            14  11⎤\n",
              "⎢6/11, 1/51, ──, ──⎥\n",
              "⎣            29  36⎦"
            ],
            "text/latex": "$\\displaystyle \\left[ \\frac{6}{11}, \\  \\frac{1}{51}, \\  \\frac{14}{29}, \\  \\frac{11}{36}\\right]$"
          },
          "metadata": {},
          "execution_count": 165
        }
      ]
    },
    {
      "cell_type": "code",
      "source": [
        "[0. + T[i,0] / T[i,4] for i in [1,2,4,6]]"
      ],
      "metadata": {
        "colab": {
          "base_uri": "https://localhost:8080/",
          "height": 37
        },
        "id": "MaO7fq502U6i",
        "outputId": "d12f4339-0dd3-4972-f8c3-878dd1407e11"
      },
      "execution_count": null,
      "outputs": [
        {
          "output_type": "execute_result",
          "data": {
            "text/plain": [
              "[0.545454545454545, 0.0196078431372549, 0.482758620689655, 0.305555555555556]"
            ],
            "text/latex": "$\\displaystyle \\left[ 0.545454545454545, \\  0.0196078431372549, \\  0.482758620689655, \\  0.305555555555556\\right]$"
          },
          "metadata": {},
          "execution_count": 166
        }
      ]
    },
    {
      "cell_type": "markdown",
      "source": [
        "The minimum ratio is $\\frac{1}{51}$ and it occurs in row 2.\n",
        "\n",
        "I choose row 2 as my pivot row. $x_b(2)$ $= y_2$ will exit the basis.\n",
        "\n",
        "Now, we need to compute the elementary row operations of the pivot.\n",
        "\n",
        "Replace Row 0 by itself plus $\\frac{(40M+10)}{17}$ times the pivot row(i.e row 2)"
      ],
      "metadata": {
        "id": "OlV6P6hQ2kYq"
      }
    },
    {
      "cell_type": "code",
      "source": [
        "T = T . elementary_row_op(op = 'n->n+km',row = 0,k=Rational(40,17)*M+Rational(10,17),row2 = 2)"
      ],
      "metadata": {
        "id": "t-cD4xt439B-"
      },
      "execution_count": null,
      "outputs": []
    },
    {
      "cell_type": "markdown",
      "source": [
        "Replace Row 1 by itself plus $(\\frac{-11}{51})$ times the pivot row(i.e row 2)"
      ],
      "metadata": {
        "id": "OMeziBDUIKMc"
      }
    },
    {
      "cell_type": "code",
      "source": [
        "T = T . elementary_row_op(op = 'n->n+km',row = 1,k=-Rational(11,51),row2 = 2)"
      ],
      "metadata": {
        "id": "qraQKs224adS"
      },
      "execution_count": null,
      "outputs": []
    },
    {
      "cell_type": "markdown",
      "source": [
        "Replace Row 3 by itself plus $(\\frac{8}{51})$ times the pivot row(i.e row 2)"
      ],
      "metadata": {
        "id": "VQ9ci9w1Ihhi"
      }
    },
    {
      "cell_type": "code",
      "source": [
        "T = T . elementary_row_op(op = 'n->n+km',row = 3,k=Rational(8,51),row2 = 2)"
      ],
      "metadata": {
        "id": "6y1T6UEW4bAw"
      },
      "execution_count": null,
      "outputs": []
    },
    {
      "cell_type": "markdown",
      "source": [
        "Replace Row 4 by itself plus $(\\frac{-29}{51})$ times the pivot row(i.e row 2)"
      ],
      "metadata": {
        "id": "QdYIuyg-Im9W"
      }
    },
    {
      "cell_type": "code",
      "source": [
        "T = T . elementary_row_op(op = 'n->n+km',row = 4,k=-Rational(29,51),row2 = 2)"
      ],
      "metadata": {
        "id": "60lLK2dl4bDn"
      },
      "execution_count": null,
      "outputs": []
    },
    {
      "cell_type": "markdown",
      "source": [
        "Replace Row 5 by itself plus $(\\frac{7}{51})$ times the pivot row(i.e row 2)"
      ],
      "metadata": {
        "id": "eP0FRJsHIsV6"
      }
    },
    {
      "cell_type": "code",
      "source": [
        "T = T . elementary_row_op(op = 'n->n+km',row = 5,k=Rational(7,51),row2 = 2)"
      ],
      "metadata": {
        "id": "s-p7PsGz4bGV"
      },
      "execution_count": null,
      "outputs": []
    },
    {
      "cell_type": "markdown",
      "source": [
        "Replace Row 6 by itself plus $(\\frac{-36}{51})$ times the pivot row(i.e row 2)"
      ],
      "metadata": {
        "id": "IKyzcCq8I2cz"
      }
    },
    {
      "cell_type": "code",
      "source": [
        "T = T . elementary_row_op(op = 'n->n+km',row = 6,k=-Rational(36,51),row2 = 2)"
      ],
      "metadata": {
        "id": "Sw5n-U9M4bIy"
      },
      "execution_count": null,
      "outputs": []
    },
    {
      "cell_type": "markdown",
      "source": [
        "Multiply the pivot row(row 2) by $(\\frac{5}{51})$"
      ],
      "metadata": {
        "id": "nezs95l7I79s"
      }
    },
    {
      "cell_type": "code",
      "source": [
        "T = T . elementary_row_op(op = 'n->kn',row = 2,k = Rational(5,51))"
      ],
      "metadata": {
        "id": "0PykqqnS4bMS"
      },
      "execution_count": null,
      "outputs": []
    },
    {
      "cell_type": "markdown",
      "source": [
        "Updated Tableau:"
      ],
      "metadata": {
        "id": "uu-C87CUH5Zy"
      }
    },
    {
      "cell_type": "code",
      "source": [
        "T"
      ],
      "metadata": {
        "colab": {
          "base_uri": "https://localhost:8080/",
          "height": 160
        },
        "id": "MRmLa7td6auj",
        "outputId": "8ecda65b-e948-4b60-9f75-99eca52eb0b1"
      },
      "execution_count": null,
      "outputs": [
        {
          "output_type": "execute_result",
          "data": {
            "text/plain": [
              "⎡36   230⋅M         31⋅M   46         105⋅M   141        23⋅M   10  18⋅M   13                 40⋅M ↪\n",
              "⎢── - ─────  0  0   ──── + ──  0  0   ───── + ───  M   - ──── - ──  ──── + ──  -M  M   -M  0  ──── ↪\n",
              "⎢17    17            17    17          17     17          17    17   17    17                  17  ↪\n",
              "⎢                                                                                                  ↪\n",
              "⎢    59               -122                71               11         -16                       -1 ↪\n",
              "⎢    ──      0  0     ─────    0  0       ──       -1      ──         ────     0   0   0   1    ── ↪\n",
              "⎢    51                51                 51               51          51                        5 ↪\n",
              "⎢                                                                                                  ↪\n",
              "⎢                     -28                 28                                                       ↪\n",
              "⎢   1/51     0  0     ────     1  -1      ──       0      -5/51       -2/51    0   0   0   0    5/ ↪\n",
              "⎢                      51                 51                                                       ↪\n",
              "⎢                                                                                                  ↪\n",
              "⎢    22                                   55                                                       ↪\n",
              "⎢    ──      1  -1    -4/51    0  0       ──       0      -8/51       7/51     0   0   0   0    8/ ↪\n",
              "⎢    51                                   51                                                       ↪\n",
              "⎢                                                                                                  ↪\n",
              "⎢   137               -266               -91               29         -19                       -2 ↪\n",
              "⎢   ───      0  0     ─────    0  0      ────      0       ──         ────     1   0   0   0    ── ↪\n",
              "⎢   51                 51                 51               51          51                        5 ↪\n",
              "⎢                                                                                                  ↪\n",
              "⎢   389                22                 386                         -13                          ↪\n",
              "⎢   ───      0  0      ──      0  0       ───      0      -7/51       ────     0   -1  0   0    7/ ↪\n",
              "⎢   51                 51                 51                           51                          ↪\n",
              "⎢                                                                                                  ↪\n",
              "⎢    35                91                -227              12                                   -1 ↪\n",
              "⎢    ──      0  0      ──      0  0      ─────     0       ──         -2/17    0   0   1   0    ── ↪\n",
              "⎣    17                17                 17               17                                    1 ↪\n",
              "\n",
              "↪    10  35⋅M   13         ⎤\n",
              "↪  + ──  ──── + ──  0  0  0⎥\n",
              "↪    17   17    17         ⎥\n",
              "↪                          ⎥\n",
              "↪ 1        -16             ⎥\n",
              "↪ ──       ────     0  0  0⎥\n",
              "↪ 1         51             ⎥\n",
              "↪                          ⎥\n",
              "↪                          ⎥\n",
              "↪ 51       -2/51    0  0  0⎥\n",
              "↪                          ⎥\n",
              "↪                          ⎥\n",
              "↪                          ⎥\n",
              "↪ 51       7/51     0  0  0⎥\n",
              "↪                          ⎥\n",
              "↪                          ⎥\n",
              "↪ 9        -19             ⎥\n",
              "↪ ──       ────     1  0  0⎥\n",
              "↪ 1         51             ⎥\n",
              "↪                          ⎥\n",
              "↪          -13             ⎥\n",
              "↪ 51       ────     0  1  0⎥\n",
              "↪           51             ⎥\n",
              "↪                          ⎥\n",
              "↪ 2                        ⎥\n",
              "↪ ──       -2/17    0  0  1⎥\n",
              "↪ 7                        ⎦"
            ],
            "text/latex": "$\\displaystyle \\left[\\begin{array}{ccccccccccccccccccc}\\frac{36}{17} - \\frac{230 M}{17} & 0 & 0 & \\frac{31 M}{17} + \\frac{46}{17} & 0 & 0 & \\frac{105 M}{17} + \\frac{141}{17} & M & - \\frac{23 M}{17} - \\frac{10}{17} & \\frac{18 M}{17} + \\frac{13}{17} & - M & M & - M & 0 & \\frac{40 M}{17} + \\frac{10}{17} & \\frac{35 M}{17} + \\frac{13}{17} & 0 & 0 & 0\\\\\\frac{59}{51} & 0 & 0 & - \\frac{122}{51} & 0 & 0 & \\frac{71}{51} & -1 & \\frac{11}{51} & - \\frac{16}{51} & 0 & 0 & 0 & 1 & - \\frac{11}{51} & - \\frac{16}{51} & 0 & 0 & 0\\\\\\frac{1}{51} & 0 & 0 & - \\frac{28}{51} & 1 & -1 & \\frac{28}{51} & 0 & - \\frac{5}{51} & - \\frac{2}{51} & 0 & 0 & 0 & 0 & \\frac{5}{51} & - \\frac{2}{51} & 0 & 0 & 0\\\\\\frac{22}{51} & 1 & -1 & - \\frac{4}{51} & 0 & 0 & \\frac{55}{51} & 0 & - \\frac{8}{51} & \\frac{7}{51} & 0 & 0 & 0 & 0 & \\frac{8}{51} & \\frac{7}{51} & 0 & 0 & 0\\\\\\frac{137}{51} & 0 & 0 & - \\frac{266}{51} & 0 & 0 & - \\frac{91}{51} & 0 & \\frac{29}{51} & - \\frac{19}{51} & 1 & 0 & 0 & 0 & - \\frac{29}{51} & - \\frac{19}{51} & 1 & 0 & 0\\\\\\frac{389}{51} & 0 & 0 & \\frac{22}{51} & 0 & 0 & \\frac{386}{51} & 0 & - \\frac{7}{51} & - \\frac{13}{51} & 0 & -1 & 0 & 0 & \\frac{7}{51} & - \\frac{13}{51} & 0 & 1 & 0\\\\\\frac{35}{17} & 0 & 0 & \\frac{91}{17} & 0 & 0 & - \\frac{227}{17} & 0 & \\frac{12}{17} & - \\frac{2}{17} & 0 & 0 & 1 & 0 & - \\frac{12}{17} & - \\frac{2}{17} & 0 & 0 & 1\\end{array}\\right]$"
          },
          "metadata": {},
          "execution_count": 24
        }
      ]
    },
    {
      "cell_type": "markdown",
      "source": [
        "New basic variables: ${y_1,x^+_3,x^+_1,y_4,y_5,y_6}$"
      ],
      "metadata": {
        "id": "gDeiJDGtHFbI"
      }
    },
    {
      "cell_type": "markdown",
      "source": [
        "# Third Pivot"
      ],
      "metadata": {
        "id": "atEdhQrBJi8q"
      }
    },
    {
      "cell_type": "markdown",
      "source": [
        "The reduced cost in column 8 is negative: $S_2$ = $\\frac{-23M}{17}$-$\\frac{10}{17}$. I choose column 8 as my pivot column.\n",
        "\n",
        "The variable $S_2$ will enter the basis.\n",
        "\n",
        "Now let's compute the ratios $\\frac{x_b(i)}{u(i)}$ for each\n",
        "$u_i$\n",
        "\n",
        "\n",
        "I compute the ratio $\\frac{x_b(i)}{u(i)}$ for $i =1,4,6$ because $u_1,u_4,u_6$ are positive while $u_2, u_3$ $and$ $u_5$ are negative."
      ],
      "metadata": {
        "id": "IDkOi3XIJsVu"
      }
    },
    {
      "cell_type": "code",
      "source": [
        "[T[i,0] / T[i,8] for i in [1,4,6]]"
      ],
      "metadata": {
        "colab": {
          "base_uri": "https://localhost:8080/",
          "height": 58
        },
        "id": "WQYdOxIHLgC4",
        "outputId": "097e4c70-0dd9-46e2-a5b1-9c942192535e"
      },
      "execution_count": null,
      "outputs": [
        {
          "output_type": "execute_result",
          "data": {
            "text/plain": [
              "⎡59  137  35⎤\n",
              "⎢──, ───, ──⎥\n",
              "⎣11  29   12⎦"
            ],
            "text/latex": "$\\displaystyle \\left[ \\frac{59}{11}, \\  \\frac{137}{29}, \\  \\frac{35}{12}\\right]$"
          },
          "metadata": {},
          "execution_count": 24
        }
      ]
    },
    {
      "cell_type": "code",
      "source": [
        "[0. + T[i,0] / T[i,8] for i in [1,4,6]]"
      ],
      "metadata": {
        "colab": {
          "base_uri": "https://localhost:8080/",
          "height": 37
        },
        "id": "KBo7fcshXGyk",
        "outputId": "5a2fbd8b-5b6a-4c9e-9fcd-e56f9f124bbf"
      },
      "execution_count": null,
      "outputs": [
        {
          "output_type": "execute_result",
          "data": {
            "text/plain": [
              "[5.36363636363636, 4.72413793103448, 2.91666666666667]"
            ],
            "text/latex": "$\\displaystyle \\left[ 5.36363636363636, \\  4.72413793103448, \\  2.91666666666667\\right]$"
          },
          "metadata": {},
          "execution_count": 25
        }
      ]
    },
    {
      "cell_type": "markdown",
      "source": [
        "The minimum ratio is $\\frac{35}{12}$ and it occurs in row 6.\n",
        "I choose row 6 as my pivot row. $x_b(6)$ $= y_6$ will exit the basis.\n",
        "\n",
        "Now, we need to compute the elementary row operations of the pivot.\n",
        "\n",
        "Replace Row 0 by itself plus $\\frac{23M}{12}+\\frac{5}{6}$ times the pivot row(i.e row 6)"
      ],
      "metadata": {
        "id": "7ibjYl_MMDZO"
      }
    },
    {
      "cell_type": "code",
      "source": [
        "T = T . elementary_row_op(op = 'n->n+km',row = 0,k=Rational(23,12)*M+Rational(5,6),row2 = 6)"
      ],
      "metadata": {
        "id": "19D9CuZ4NJ_a"
      },
      "execution_count": null,
      "outputs": []
    },
    {
      "cell_type": "markdown",
      "source": [
        "Replace Row 1 by itself plus $\\frac{-11}{36}$ times the pivot row(i.e row 6)"
      ],
      "metadata": {
        "id": "-3CMmiJ6qpTd"
      }
    },
    {
      "cell_type": "code",
      "source": [
        "T = T . elementary_row_op(op = 'n->n+km',row = 1,k=-Rational(11,36),row2 = 6)"
      ],
      "metadata": {
        "id": "wthy46T8alGO"
      },
      "execution_count": null,
      "outputs": []
    },
    {
      "cell_type": "markdown",
      "source": [
        "Replace Row 2 by itself plus $\\frac{5}{36}$ times the pivot row(i.e row 6)"
      ],
      "metadata": {
        "id": "6KULtUz6q6wl"
      }
    },
    {
      "cell_type": "code",
      "source": [
        "T = T . elementary_row_op(op = 'n->n+km',row = 2,k=Rational(5,36),row2 = 6)"
      ],
      "metadata": {
        "id": "GuuOIvmkbKB_"
      },
      "execution_count": null,
      "outputs": []
    },
    {
      "cell_type": "markdown",
      "source": [
        "Replace Row 3 by itself plus $\\frac{2}{9}$ times the pivot row(i.e row 6)"
      ],
      "metadata": {
        "id": "zYbeH6Q_rAFB"
      }
    },
    {
      "cell_type": "code",
      "source": [
        "T = T . elementary_row_op(op = 'n->n+km',row = 3,k=Rational(2,9),row2 = 6)"
      ],
      "metadata": {
        "id": "-V8iwS1ibSnf"
      },
      "execution_count": null,
      "outputs": []
    },
    {
      "cell_type": "markdown",
      "source": [
        "Replace Row 4 by itself plus $\\frac{-29}{36}$ times the pivot row(i.e row 6)"
      ],
      "metadata": {
        "id": "6BWYwAG2rHm6"
      }
    },
    {
      "cell_type": "code",
      "source": [
        "T = T . elementary_row_op(op = 'n->n+km',row = 4,k=-Rational(29,36),row2 = 6)"
      ],
      "metadata": {
        "id": "HPA2QjExbURs"
      },
      "execution_count": null,
      "outputs": []
    },
    {
      "cell_type": "markdown",
      "source": [
        "Replace Row 5 by itself plus $\\frac{7}{36}$ times the pivot row(i.e row 6)"
      ],
      "metadata": {
        "id": "kQFawbevrNW1"
      }
    },
    {
      "cell_type": "code",
      "source": [
        "T = T . elementary_row_op(op = 'n->n+km',row = 5,k=Rational(7,36),row2 = 6)"
      ],
      "metadata": {
        "id": "VLxRAS7WbUej"
      },
      "execution_count": null,
      "outputs": []
    },
    {
      "cell_type": "markdown",
      "source": [
        "Multiply the pivot row(row 6) by $(\\frac{17}{12})$"
      ],
      "metadata": {
        "id": "hnHPH2UArVt7"
      }
    },
    {
      "cell_type": "code",
      "source": [
        "T = T . elementary_row_op(op = 'n->kn',row = 6,k = Rational(17,12))"
      ],
      "metadata": {
        "id": "bhkrpgIncQEc"
      },
      "execution_count": null,
      "outputs": []
    },
    {
      "cell_type": "markdown",
      "source": [
        "Updated Tableau:"
      ],
      "metadata": {
        "id": "0RqSV04oN5Bd"
      }
    },
    {
      "cell_type": "code",
      "source": [
        "T"
      ],
      "metadata": {
        "colab": {
          "base_uri": "https://localhost:8080/",
          "height": 160
        },
        "id": "zw7_t_oMNoR2",
        "outputId": "fbf43e17-535d-4d1a-afb4-91285dd8805d"
      },
      "execution_count": null,
      "outputs": [
        {
          "output_type": "execute_result",
          "data": {
            "text/plain": [
              "⎡23   115⋅M         145⋅M   43           233⋅M   17         5⋅M   2          11⋅M   5         11⋅M ↪\n",
              "⎢── - ─────  0  0   ───── + ──  0  0   - ───── - ──  M   0  ─── + ─  -M  M   ──── + ─  0  M   ──── ↪\n",
              "⎢6     12            12     6             12     6           6    3           12    6          6   ↪\n",
              "⎢                                                                                                  ↪\n",
              "⎢    19               -145                 197                                 -11                 ↪\n",
              "⎢    ──      0  0     ─────     0  0       ───       -1  0   -5/18   0   0     ────    1  0    -5/ ↪\n",
              "⎢    36                36                  36                                   36                 ↪\n",
              "⎢                                                                                                  ↪\n",
              "⎢    11                                    -47                                                     ↪\n",
              "⎢    ──      0  0      7/36     1  -1      ────      0   0   -1/18   0   0     5/36    0  0    -1/ ↪\n",
              "⎢    36                                     36                                                     ↪\n",
              "⎢                                                                                                  ↪\n",
              "⎢   8/9      1  -1     10/9     0  0      -17/9      0   0    1/9    0   0     2/9     0  0     1/ ↪\n",
              "⎢                                                                                                  ↪\n",
              "⎢    37               -343                 323                                 -29                 ↪\n",
              "⎢    ──      0  0     ─────     0  0       ───       0   0   -5/18   1   0     ────    0  0    -5/ ↪\n",
              "⎢    36                36                  36                                   36                 ↪\n",
              "⎢                                                                                                  ↪\n",
              "⎢   289                 53                 179                                                     ↪\n",
              "⎢   ───      0  0       ──      0  0       ───       0   0   -5/18   0   -1    7/36    0  0    -5/ ↪\n",
              "⎢   36                  36                 36                                                      ↪\n",
              "⎢                                                                                                  ↪\n",
              "⎢    35                 91                -227                                  17                 ↪\n",
              "⎢    ──      0  0       ──      0  0      ─────      0   1   -1/6    0   0      ──     0  -1    -1 ↪\n",
              "⎣    12                 12                 12                                   12                 ↪\n",
              "\n",
              "↪    2        23⋅M   5⎤\n",
              "↪  + ─  0  0  ──── + ─⎥\n",
              "↪    3         12    6⎥\n",
              "↪                     ⎥\n",
              "↪               -11   ⎥\n",
              "↪ 18    0  0    ────  ⎥\n",
              "↪                36   ⎥\n",
              "↪                     ⎥\n",
              "↪                     ⎥\n",
              "↪ 18    0  0    5/36  ⎥\n",
              "↪                     ⎥\n",
              "↪                     ⎥\n",
              "↪ 9     0  0    2/9   ⎥\n",
              "↪                     ⎥\n",
              "↪               -29   ⎥\n",
              "↪ 18    1  0    ────  ⎥\n",
              "↪                36   ⎥\n",
              "↪                     ⎥\n",
              "↪                     ⎥\n",
              "↪ 18    0  1    7/36  ⎥\n",
              "↪                     ⎥\n",
              "↪                     ⎥\n",
              "↪                17   ⎥\n",
              "↪ /6    0  0     ──   ⎥\n",
              "↪                12   ⎦"
            ],
            "text/latex": "$\\displaystyle \\left[\\begin{array}{ccccccccccccccccccc}\\frac{23}{6} - \\frac{115 M}{12} & 0 & 0 & \\frac{145 M}{12} + \\frac{43}{6} & 0 & 0 & - \\frac{233 M}{12} - \\frac{17}{6} & M & 0 & \\frac{5 M}{6} + \\frac{2}{3} & - M & M & \\frac{11 M}{12} + \\frac{5}{6} & 0 & M & \\frac{11 M}{6} + \\frac{2}{3} & 0 & 0 & \\frac{23 M}{12} + \\frac{5}{6}\\\\\\frac{19}{36} & 0 & 0 & - \\frac{145}{36} & 0 & 0 & \\frac{197}{36} & -1 & 0 & - \\frac{5}{18} & 0 & 0 & - \\frac{11}{36} & 1 & 0 & - \\frac{5}{18} & 0 & 0 & - \\frac{11}{36}\\\\\\frac{11}{36} & 0 & 0 & \\frac{7}{36} & 1 & -1 & - \\frac{47}{36} & 0 & 0 & - \\frac{1}{18} & 0 & 0 & \\frac{5}{36} & 0 & 0 & - \\frac{1}{18} & 0 & 0 & \\frac{5}{36}\\\\\\frac{8}{9} & 1 & -1 & \\frac{10}{9} & 0 & 0 & - \\frac{17}{9} & 0 & 0 & \\frac{1}{9} & 0 & 0 & \\frac{2}{9} & 0 & 0 & \\frac{1}{9} & 0 & 0 & \\frac{2}{9}\\\\\\frac{37}{36} & 0 & 0 & - \\frac{343}{36} & 0 & 0 & \\frac{323}{36} & 0 & 0 & - \\frac{5}{18} & 1 & 0 & - \\frac{29}{36} & 0 & 0 & - \\frac{5}{18} & 1 & 0 & - \\frac{29}{36}\\\\\\frac{289}{36} & 0 & 0 & \\frac{53}{36} & 0 & 0 & \\frac{179}{36} & 0 & 0 & - \\frac{5}{18} & 0 & -1 & \\frac{7}{36} & 0 & 0 & - \\frac{5}{18} & 0 & 1 & \\frac{7}{36}\\\\\\frac{35}{12} & 0 & 0 & \\frac{91}{12} & 0 & 0 & - \\frac{227}{12} & 0 & 1 & - \\frac{1}{6} & 0 & 0 & \\frac{17}{12} & 0 & -1 & - \\frac{1}{6} & 0 & 0 & \\frac{17}{12}\\end{array}\\right]$"
          },
          "metadata": {},
          "execution_count": 32
        }
      ]
    },
    {
      "cell_type": "markdown",
      "source": [
        "New basic variables: ${y_1,x^+_3,x^+_1,y_4,y_5,S_2}$"
      ],
      "metadata": {
        "id": "nWHkdieKOgaS"
      }
    },
    {
      "cell_type": "markdown",
      "source": [
        "# Fourth Pivot"
      ],
      "metadata": {
        "id": "5lxVP0UAO4mv"
      }
    },
    {
      "cell_type": "markdown",
      "source": [
        "The reduced cost in column 6 is negative: $x_4$ = $\\frac{-233M}{12}$-$\\frac{17}{6}$. I choose column 6 as my pivot column.\n",
        "\n",
        "The variable $x_4$ will enter the basis.\n",
        "\n",
        "Now let's compute the ratios $\\frac{x_b(i)}{u(i)}$ for each\n",
        "$u_i$\n",
        "\n",
        "\n",
        "I compute the ratio $\\frac{x_b(i)}{u(i)}$ for $i =1,4,5$ because $u_1,u_4,u_5$ are positive while $u_2, u_3$ $and$ $u_6$ are negative."
      ],
      "metadata": {
        "id": "ehj0dMVxO-eK"
      }
    },
    {
      "cell_type": "code",
      "source": [
        "[T[i,0] / T[i,6] for i in [1,4,5]]"
      ],
      "metadata": {
        "colab": {
          "base_uri": "https://localhost:8080/",
          "height": 58
        },
        "id": "0uo-7C-7fI4R",
        "outputId": "ac83130f-c949-45c8-b4bf-ebaf88f0350b"
      },
      "execution_count": null,
      "outputs": [
        {
          "output_type": "execute_result",
          "data": {
            "text/plain": [
              "⎡19   37   289⎤\n",
              "⎢───, ───, ───⎥\n",
              "⎣197  323  179⎦"
            ],
            "text/latex": "$\\displaystyle \\left[ \\frac{19}{197}, \\  \\frac{37}{323}, \\  \\frac{289}{179}\\right]$"
          },
          "metadata": {},
          "execution_count": 92
        }
      ]
    },
    {
      "cell_type": "markdown",
      "source": [
        "The minimum ratio is $\\frac{19}{197}$ and it occurs in row 1.\n",
        "I choose row 1 as my pivot row. $x_b(1)$ $= y_1$ will exit the basis.\n",
        "\n",
        "Now, we need to compute the elementary row operations of the pivot.\n",
        "\n",
        "Replace Row 0 by itself plus $\\frac{699M}{197}+\\frac{102}{197}$ times the pivot row(i.e row 1)"
      ],
      "metadata": {
        "id": "5-cvoAeIgpWs"
      }
    },
    {
      "cell_type": "code",
      "source": [
        "T = T . elementary_row_op(op = 'n->n+km',row = 0,k=Rational(699,197)*M+Rational(102,197),row2 = 1)"
      ],
      "metadata": {
        "id": "MUHIlji0iM2f"
      },
      "execution_count": null,
      "outputs": []
    },
    {
      "cell_type": "markdown",
      "source": [
        "Replace Row 2 by itself plus $\\frac{47}{197}$ times the pivot row(i.e row 1)\n",
        "\n",
        "\n",
        "\n"
      ],
      "metadata": {
        "id": "vrsVOsywrzdo"
      }
    },
    {
      "cell_type": "code",
      "source": [
        "T = T . elementary_row_op(op = 'n->n+km',row =2,k=Rational(47,197),row2 = 1)"
      ],
      "metadata": {
        "id": "WylPNKF4pWX1"
      },
      "execution_count": null,
      "outputs": []
    },
    {
      "cell_type": "markdown",
      "source": [
        "Replace Row 3 by itself plus $\\frac{68}{197}$ times the pivot row(i.e row 1)"
      ],
      "metadata": {
        "id": "Fu6Jzfojr9cD"
      }
    },
    {
      "cell_type": "code",
      "source": [
        "T = T . elementary_row_op(op = 'n->n+km',row =3,k=Rational(68,197),row2 = 1)"
      ],
      "metadata": {
        "id": "suVFoMwVpqJR"
      },
      "execution_count": null,
      "outputs": []
    },
    {
      "cell_type": "markdown",
      "source": [
        "Replace Row 4 by itself plus $\\frac{-323}{197}$ times the pivot row(i.e row 1)"
      ],
      "metadata": {
        "id": "AlP8ybtysB9O"
      }
    },
    {
      "cell_type": "code",
      "source": [
        "T = T . elementary_row_op(op = 'n->n+km',row =4,k=-Rational(323,197),row2 = 1)"
      ],
      "metadata": {
        "id": "opW5rz1vpueD"
      },
      "execution_count": null,
      "outputs": []
    },
    {
      "cell_type": "markdown",
      "source": [
        "Replace Row 5 by itself plus $\\frac{-179}{197}$ times the pivot row(i.e row 1)"
      ],
      "metadata": {
        "id": "dm1hCvKYsNI9"
      }
    },
    {
      "cell_type": "code",
      "source": [
        "T = T . elementary_row_op(op = 'n->n+km',row =5,k=-Rational(179,197),row2 = 1)"
      ],
      "metadata": {
        "id": "3gzh_TlQp8Xm"
      },
      "execution_count": null,
      "outputs": []
    },
    {
      "cell_type": "markdown",
      "source": [
        "Replace Row 6 by itself plus $\\frac{681}{197}$ times the pivot row(i.e row 1)"
      ],
      "metadata": {
        "id": "H1to7wr-sWuY"
      }
    },
    {
      "cell_type": "code",
      "source": [
        "T = T . elementary_row_op(op = 'n->n+km',row =6,k=Rational(681,197),row2 = 1)"
      ],
      "metadata": {
        "id": "2SVnewqnqBhE"
      },
      "execution_count": null,
      "outputs": []
    },
    {
      "cell_type": "markdown",
      "source": [
        "Multiply the pivot row(row 1) by $(\\frac{36}{197})$"
      ],
      "metadata": {
        "id": "BWu6urhrsdqn"
      }
    },
    {
      "cell_type": "code",
      "source": [
        "T = T . elementary_row_op(op = 'n->kn',row = 1,k = Rational(36,197))"
      ],
      "metadata": {
        "id": "K-6D9oe0qFuB"
      },
      "execution_count": null,
      "outputs": []
    },
    {
      "cell_type": "markdown",
      "source": [
        "Updated Tableau:"
      ],
      "metadata": {
        "id": "lVA5FGNrzNRW"
      }
    },
    {
      "cell_type": "code",
      "source": [
        "T"
      ],
      "metadata": {
        "colab": {
          "base_uri": "https://localhost:8080/",
          "height": 160
        },
        "id": "nTKslUBricTq",
        "outputId": "21de73b2-ba90-4e1b-84e7-b95a39fd9fbd"
      },
      "execution_count": null,
      "outputs": [
        {
          "output_type": "execute_result",
          "data": {
            "text/plain": [
              "⎡809   1519⋅M         1001   435⋅M              502⋅M   102     103   30⋅M          133   33⋅M  69 ↪\n",
              "⎢─── - ──────  0  0   ──── - ─────  0  0   0  - ───── - ───  0  ─── - ────  -M  M   ─── - ────  ── ↪\n",
              "⎢197    197           197     197                197    197     197   197           197   197    1 ↪\n",
              "⎢                                                                                                  ↪\n",
              "⎢    19                  -145                     -36              -10                 -11         ↪\n",
              "⎢    ───       0  0      ─────      0  0   1      ────       0     ────     0   0      ────        ↪\n",
              "⎢    197                  197                     197              197                 197         ↪\n",
              "⎢                                                                                                  ↪\n",
              "⎢    85                  -151                     -47              -24                 13          ↪\n",
              "⎢    ───       0  0      ─────      1  -1  0      ────       0     ────     0   0      ───         ↪\n",
              "⎢    197                  197                     197              197                 197         ↪\n",
              "⎢                                                                                                  ↪\n",
              "⎢    211                  -55                     -68                                  23          ↪\n",
              "⎢    ───       1  -1      ────      0  0   0      ────       0    3/197     0   0      ───         ↪\n",
              "⎢    197                  197                     197                                  197         ↪\n",
              "⎢                                                                                                  ↪\n",
              "⎢    32                  -576                      323             35                  -60         ↪\n",
              "⎢    ───       0  0      ─────      0  0   0       ───       0     ───      1   0      ────        ↪\n",
              "⎢    197                  197                      197             197                 197         ↪\n",
              "⎢                                                                                                  ↪\n",
              "⎢    1487                 1011                     179                                 93          ↪\n",
              "⎢    ────      0  0       ────      0  0   0       ───       0    -5/197    0   -1     ───         ↪\n",
              "⎢    197                  197                      197                                 197         ↪\n",
              "⎢                                                                                                  ↪\n",
              "⎢    934                 -1249                    -681            -222                 71          ↪\n",
              "⎢    ───       0  0      ──────     0  0   0      ─────      1    ─────     0   0      ───         ↪\n",
              "⎣    197                  197                      197             197                 197         ↪\n",
              "\n",
              "↪ 9⋅M   102      167⋅M   103        164⋅M   133⎤\n",
              "↪ ─── + ───  M   ───── + ───  0  0  ───── + ───⎥\n",
              "↪ 97    197       197    197         197    197⎥\n",
              "↪                                              ⎥\n",
              "↪   36              -10                -11     ⎥\n",
              "↪   ───      0      ────      0  0     ────    ⎥\n",
              "↪   197             197                197     ⎥\n",
              "↪                                              ⎥\n",
              "↪   47              -24                 13     ⎥\n",
              "↪   ───      0      ────      0  0      ───    ⎥\n",
              "↪   197             197                 197    ⎥\n",
              "↪                                              ⎥\n",
              "↪   68                                  23     ⎥\n",
              "↪   ───      0      3/197     0  0      ───    ⎥\n",
              "↪   197                                 197    ⎥\n",
              "↪                                              ⎥\n",
              "↪  -323              35                -60     ⎥\n",
              "↪  ─────     0       ───      1  0     ────    ⎥\n",
              "↪   197              197               197     ⎥\n",
              "↪                                              ⎥\n",
              "↪  -179                                 93     ⎥\n",
              "↪  ─────     0     -5/197     0  1      ───    ⎥\n",
              "↪   197                                 197    ⎥\n",
              "↪                                              ⎥\n",
              "↪   681             -222                71     ⎥\n",
              "↪   ───      -1     ─────     0  0      ───    ⎥\n",
              "↪   197              197                197    ⎦"
            ],
            "text/latex": "$\\displaystyle \\left[\\begin{array}{ccccccccccccccccccc}\\frac{809}{197} - \\frac{1519 M}{197} & 0 & 0 & \\frac{1001}{197} - \\frac{435 M}{197} & 0 & 0 & 0 & - \\frac{502 M}{197} - \\frac{102}{197} & 0 & \\frac{103}{197} - \\frac{30 M}{197} & - M & M & \\frac{133}{197} - \\frac{33 M}{197} & \\frac{699 M}{197} + \\frac{102}{197} & M & \\frac{167 M}{197} + \\frac{103}{197} & 0 & 0 & \\frac{164 M}{197} + \\frac{133}{197}\\\\\\frac{19}{197} & 0 & 0 & - \\frac{145}{197} & 0 & 0 & 1 & - \\frac{36}{197} & 0 & - \\frac{10}{197} & 0 & 0 & - \\frac{11}{197} & \\frac{36}{197} & 0 & - \\frac{10}{197} & 0 & 0 & - \\frac{11}{197}\\\\\\frac{85}{197} & 0 & 0 & - \\frac{151}{197} & 1 & -1 & 0 & - \\frac{47}{197} & 0 & - \\frac{24}{197} & 0 & 0 & \\frac{13}{197} & \\frac{47}{197} & 0 & - \\frac{24}{197} & 0 & 0 & \\frac{13}{197}\\\\\\frac{211}{197} & 1 & -1 & - \\frac{55}{197} & 0 & 0 & 0 & - \\frac{68}{197} & 0 & \\frac{3}{197} & 0 & 0 & \\frac{23}{197} & \\frac{68}{197} & 0 & \\frac{3}{197} & 0 & 0 & \\frac{23}{197}\\\\\\frac{32}{197} & 0 & 0 & - \\frac{576}{197} & 0 & 0 & 0 & \\frac{323}{197} & 0 & \\frac{35}{197} & 1 & 0 & - \\frac{60}{197} & - \\frac{323}{197} & 0 & \\frac{35}{197} & 1 & 0 & - \\frac{60}{197}\\\\\\frac{1487}{197} & 0 & 0 & \\frac{1011}{197} & 0 & 0 & 0 & \\frac{179}{197} & 0 & - \\frac{5}{197} & 0 & -1 & \\frac{93}{197} & - \\frac{179}{197} & 0 & - \\frac{5}{197} & 0 & 1 & \\frac{93}{197}\\\\\\frac{934}{197} & 0 & 0 & - \\frac{1249}{197} & 0 & 0 & 0 & - \\frac{681}{197} & 1 & - \\frac{222}{197} & 0 & 0 & \\frac{71}{197} & \\frac{681}{197} & -1 & - \\frac{222}{197} & 0 & 0 & \\frac{71}{197}\\end{array}\\right]$"
          },
          "metadata": {},
          "execution_count": 40
        }
      ]
    },
    {
      "cell_type": "markdown",
      "source": [
        "New basic variables: ${x_4,x^+_3,x^+_1,y_4,y_5,S_2}$"
      ],
      "metadata": {
        "id": "Ki3L2Li8sppL"
      }
    },
    {
      "cell_type": "markdown",
      "source": [
        "# Fifth Pivot"
      ],
      "metadata": {
        "id": "ZIYtvDLzsjpR"
      }
    },
    {
      "cell_type": "markdown",
      "source": [
        "The reduced cost in column 3 is negative: $x_4$ = $\\frac{1001}{197}$-$\\frac{435M}{197}$. I choose column 3 as my pivot column.\n",
        "\n",
        "The variable $x_2$ will enter the basis.\n",
        "\n",
        "Now let's compute the ratios $\\frac{x_b(i)}{u(i)}$ for each\n",
        "$u_i$\n",
        "\n",
        "\n",
        "I only compute the ratio $\\frac{x_b(i)}{u(i)}$ for $i =5$ because $u_5$is positive while $u_1,u_2,u_3,u_4$ $and$ $u_6$ are negative."
      ],
      "metadata": {
        "id": "Mp7yXe7TsoNK"
      }
    },
    {
      "cell_type": "code",
      "source": [
        "[T[i,0] / T[i,3] for i in [5]]"
      ],
      "metadata": {
        "colab": {
          "base_uri": "https://localhost:8080/",
          "height": 58
        },
        "id": "uxo1iijy2WXY",
        "outputId": "f26c64b9-5637-4f4e-8e3c-458f52b3d626"
      },
      "execution_count": null,
      "outputs": [
        {
          "output_type": "execute_result",
          "data": {
            "text/plain": [
              "⎡1487⎤\n",
              "⎢────⎥\n",
              "⎣1011⎦"
            ],
            "text/latex": "$\\displaystyle \\left[ \\frac{1487}{1011}\\right]$"
          },
          "metadata": {},
          "execution_count": 279
        }
      ]
    },
    {
      "cell_type": "markdown",
      "source": [
        "The minimum ratio is $\\frac{1487}{1011}$ and it occurs in row 5.\n",
        "Therefore, I choose row 5 as my pivot row. $x_b(5)$ $= y_5$ will exit the basis.\n",
        "\n",
        "Now, we need to compute the elementary row operations of the pivot.\n",
        "\n",
        "Replace Row 0 by itself plus $\\frac{435M}{1011}-\\frac{1001}{1011}$ times the pivot row(i.e row 5)\n"
      ],
      "metadata": {
        "id": "jnCiW9FwueSy"
      }
    },
    {
      "cell_type": "code",
      "source": [
        "T = T . elementary_row_op(op = 'n->n+km',row = 0,k=Rational(435,1011)*M-Rational(1001,1011),row2 = 5)"
      ],
      "metadata": {
        "id": "HhftBDzhvmGr"
      },
      "execution_count": null,
      "outputs": []
    },
    {
      "cell_type": "markdown",
      "source": [
        "Replace Row 1 by itself plus $\\frac{145}{1011}$ times the pivot row(i.e row 5)"
      ],
      "metadata": {
        "id": "4VEUSv5bzF4M"
      }
    },
    {
      "cell_type": "code",
      "source": [
        "T = T . elementary_row_op(op = 'n->n+km',row = 1,k=Rational(145,1011),row2 = 5)"
      ],
      "metadata": {
        "id": "0EDws9o3wA4w"
      },
      "execution_count": null,
      "outputs": []
    },
    {
      "cell_type": "markdown",
      "source": [
        "Replace Row 2 by itself plus $\\frac{151}{1011}$ times the pivot row(i.e row 5)"
      ],
      "metadata": {
        "id": "ZaFpm3TAzGoM"
      }
    },
    {
      "cell_type": "code",
      "source": [
        "T = T . elementary_row_op(op = 'n->n+km',row = 2,k=Rational(151,1011),row2 = 5)"
      ],
      "metadata": {
        "id": "QqZjMmhEwgOd"
      },
      "execution_count": null,
      "outputs": []
    },
    {
      "cell_type": "markdown",
      "source": [
        "Replace Row 3 by itself plus $\\frac{55}{1011}$ times the pivot row(i.e row 5)"
      ],
      "metadata": {
        "id": "e-ZArKGlzHVt"
      }
    },
    {
      "cell_type": "code",
      "source": [
        "T = T . elementary_row_op(op = 'n->n+km',row = 3,k=Rational(55,1011),row2 = 5)"
      ],
      "metadata": {
        "id": "98geXaO9wBVA"
      },
      "execution_count": null,
      "outputs": []
    },
    {
      "cell_type": "markdown",
      "source": [
        "Replace Row 4 by itself plus $\\frac{576}{1011}$ times the pivot row(i.e row 5)"
      ],
      "metadata": {
        "id": "TbQ0TSaJzIR2"
      }
    },
    {
      "cell_type": "code",
      "source": [
        "T = T . elementary_row_op(op = 'n->n+km',row = 4,k=Rational(576,1011),row2 = 5)"
      ],
      "metadata": {
        "id": "j7rIFXjnw_x-"
      },
      "execution_count": null,
      "outputs": []
    },
    {
      "cell_type": "markdown",
      "source": [
        "Replace Row 6 by itself plus $\\frac{1249}{1011}$ times the pivot row(i.e row 5)"
      ],
      "metadata": {
        "id": "KjRaNNMPzI1C"
      }
    },
    {
      "cell_type": "code",
      "source": [
        "T = T . elementary_row_op(op = 'n->n+km',row = 6,k=Rational(1249,1011),row2 = 5)"
      ],
      "metadata": {
        "id": "NdXTmyB4xHIw"
      },
      "execution_count": null,
      "outputs": []
    },
    {
      "cell_type": "markdown",
      "source": [
        "Multiply the pivot row(row 5) by $(\\frac{197}{1011})$"
      ],
      "metadata": {
        "id": "J_e3IJcAzJhc"
      }
    },
    {
      "cell_type": "code",
      "source": [
        "T = T . elementary_row_op(op = 'n->kn',row = 5,k = Rational(197,1011))"
      ],
      "metadata": {
        "id": "5jC9ZDdKxRyB"
      },
      "execution_count": null,
      "outputs": []
    },
    {
      "cell_type": "markdown",
      "source": [
        "Updated Tableau:"
      ],
      "metadata": {
        "id": "W5ClPSi3zKca"
      }
    },
    {
      "cell_type": "code",
      "source": [
        "T"
      ],
      "metadata": {
        "colab": {
          "base_uri": "https://localhost:8080/",
          "height": 180
        },
        "id": "nOPTUmlHv1xM",
        "outputId": "de4eed0a-d166-4f37-f0d1-8e4a39dc6d62"
      },
      "execution_count": null,
      "outputs": [
        {
          "output_type": "execute_result",
          "data": {
            "text/plain": [
              "⎡  1504⋅M   3404                        727⋅M   1433     554    55⋅M      192⋅M   1001  12⋅M   70  ↪\n",
              "⎢- ────── - ────  0  0   0  0  0   0  - ───── - ────  0  ──── - ────  -M  ───── + ────  ──── + ─── ↪\n",
              "⎢   337     1011                         337    1011     1011   337        337    1011  337    337 ↪\n",
              "⎢                                                                                                  ↪\n",
              "⎢     1192                                 -53              -55              -145                  ↪\n",
              "⎢     ────        0  0   0  0  0   1       ────       0     ────      0      ─────        4/337    ↪\n",
              "⎢     1011                                 1011             1011             1011                  ↪\n",
              "⎢                                                                                                  ↪\n",
              "⎢     1576                                -104              -127             -151          46      ↪\n",
              "⎢     ────        0  0   0  1  -1  0      ─────       0     ─────     0      ─────         ───     ↪\n",
              "⎢     1011                                1011              1011             1011          337     ↪\n",
              "⎢                                                                                                  ↪\n",
              "⎢     1498                                -299               14               -55          48      ↪\n",
              "⎢     ────        1  -1  0  0  0   0      ─────       0     ────      0       ────         ───     ↪\n",
              "⎢     1011                                1011              1011              1011         337     ↪\n",
              "⎢                                                                                                  ↪\n",
              "⎢     1504                                 727               55              -192          -12     ↪\n",
              "⎢     ────        0  0   0  0  0   0       ───        0      ───      1      ─────         ────    ↪\n",
              "⎢     337                                  337               337              337          337     ↪\n",
              "⎢                                                                                                  ↪\n",
              "⎢     1487                                 179                               -197          31      ↪\n",
              "⎢     ────        0  0   1  0  0   0       ────       0    -5/1011    0      ─────         ───     ↪\n",
              "⎢     1011                                 1011                              1011          337     ↪\n",
              "⎢                                                                                                  ↪\n",
              "⎢     14221                               -2360            -1171             -1249         318     ↪\n",
              "⎢     ─────       0  0   0  0  0   0      ──────      1    ──────     0      ──────        ───     ↪\n",
              "⎣     1011                                 1011             1011              1011         337     ↪\n",
              "\n",
              "↪   1064⋅M   1433      282⋅M   554      145⋅M   1001  349⋅M   70 ⎤\n",
              "↪   ────── + ────  M   ───── + ────  0  ───── - ────  ───── + ───⎥\n",
              "↪    337     1011       337    1011      337    1011   337    337⎥\n",
              "↪                                                                ⎥\n",
              "↪        53                -55              145                  ⎥\n",
              "↪       ────       0       ────      0      ────         4/337   ⎥\n",
              "↪       1011               1011             1011                 ⎥\n",
              "↪                                                                ⎥\n",
              "↪       104               -127              151           46     ⎥\n",
              "↪       ────       0      ─────      0      ────          ───    ⎥\n",
              "↪       1011              1011              1011          337    ⎥\n",
              "↪                                                                ⎥\n",
              "↪       299                 14               55           48     ⎥\n",
              "↪       ────       0       ────      0      ────          ───    ⎥\n",
              "↪       1011               1011             1011          337    ⎥\n",
              "↪                                                                ⎥\n",
              "↪       -727               55               192          -12     ⎥\n",
              "↪       ─────      0       ───       1      ───          ────    ⎥\n",
              "↪        337               337              337          337     ⎥\n",
              "↪                                                                ⎥\n",
              "↪       -179                                197           31     ⎥\n",
              "↪       ─────      0     -5/1011     0      ────          ───    ⎥\n",
              "↪       1011                                1011          337    ⎥\n",
              "↪                                                                ⎥\n",
              "↪       2360              -1171             1249          318    ⎥\n",
              "↪       ────       -1     ──────     0      ────          ───    ⎥\n",
              "↪       1011               1011             1011          337    ⎦"
            ],
            "text/latex": "$\\displaystyle \\left[\\begin{array}{ccccccccccccccccccc}- \\frac{1504 M}{337} - \\frac{3404}{1011} & 0 & 0 & 0 & 0 & 0 & 0 & - \\frac{727 M}{337} - \\frac{1433}{1011} & 0 & \\frac{554}{1011} - \\frac{55 M}{337} & - M & \\frac{192 M}{337} + \\frac{1001}{1011} & \\frac{12 M}{337} + \\frac{70}{337} & \\frac{1064 M}{337} + \\frac{1433}{1011} & M & \\frac{282 M}{337} + \\frac{554}{1011} & 0 & \\frac{145 M}{337} - \\frac{1001}{1011} & \\frac{349 M}{337} + \\frac{70}{337}\\\\\\frac{1192}{1011} & 0 & 0 & 0 & 0 & 0 & 1 & - \\frac{53}{1011} & 0 & - \\frac{55}{1011} & 0 & - \\frac{145}{1011} & \\frac{4}{337} & \\frac{53}{1011} & 0 & - \\frac{55}{1011} & 0 & \\frac{145}{1011} & \\frac{4}{337}\\\\\\frac{1576}{1011} & 0 & 0 & 0 & 1 & -1 & 0 & - \\frac{104}{1011} & 0 & - \\frac{127}{1011} & 0 & - \\frac{151}{1011} & \\frac{46}{337} & \\frac{104}{1011} & 0 & - \\frac{127}{1011} & 0 & \\frac{151}{1011} & \\frac{46}{337}\\\\\\frac{1498}{1011} & 1 & -1 & 0 & 0 & 0 & 0 & - \\frac{299}{1011} & 0 & \\frac{14}{1011} & 0 & - \\frac{55}{1011} & \\frac{48}{337} & \\frac{299}{1011} & 0 & \\frac{14}{1011} & 0 & \\frac{55}{1011} & \\frac{48}{337}\\\\\\frac{1504}{337} & 0 & 0 & 0 & 0 & 0 & 0 & \\frac{727}{337} & 0 & \\frac{55}{337} & 1 & - \\frac{192}{337} & - \\frac{12}{337} & - \\frac{727}{337} & 0 & \\frac{55}{337} & 1 & \\frac{192}{337} & - \\frac{12}{337}\\\\\\frac{1487}{1011} & 0 & 0 & 1 & 0 & 0 & 0 & \\frac{179}{1011} & 0 & - \\frac{5}{1011} & 0 & - \\frac{197}{1011} & \\frac{31}{337} & - \\frac{179}{1011} & 0 & - \\frac{5}{1011} & 0 & \\frac{197}{1011} & \\frac{31}{337}\\\\\\frac{14221}{1011} & 0 & 0 & 0 & 0 & 0 & 0 & - \\frac{2360}{1011} & 1 & - \\frac{1171}{1011} & 0 & - \\frac{1249}{1011} & \\frac{318}{337} & \\frac{2360}{1011} & -1 & - \\frac{1171}{1011} & 0 & \\frac{1249}{1011} & \\frac{318}{337}\\end{array}\\right]$"
          },
          "metadata": {},
          "execution_count": 48
        }
      ]
    },
    {
      "cell_type": "markdown",
      "source": [
        "New basic variables: ${x_4,x^+_3,x^+_1,y_4,x_2,S_2}$"
      ],
      "metadata": {
        "id": "DhTD1BNR0Jt8"
      }
    },
    {
      "cell_type": "markdown",
      "source": [
        "# **Sixth Pivot**"
      ],
      "metadata": {
        "id": "11vrWvbU0Zki"
      }
    },
    {
      "cell_type": "markdown",
      "source": [
        "The reduced cost in column 7 is negative: $x_4$ = $\\frac{-727M}{337}$-$\\frac{1433}{1011}$. I choose column 7 as my pivot column.\n",
        "\n",
        "The variable $S_1$ will enter the basis.\n",
        "\n",
        "Now let's compute the ratios $\\frac{x_b(i)}{u(i)}$ for each\n",
        "$u_i$\n",
        "\n",
        "\n",
        "I compute the ratio $\\frac{x_b(i)}{u(i)}$ for $i =4,5$ because $u_4,u_5$are positive while $u_1,u_2,u_3$ $and$ $u_6$ are negative."
      ],
      "metadata": {
        "id": "Q0d_QgRk0e9Y"
      }
    },
    {
      "cell_type": "code",
      "source": [
        "[T[i,0] / T[i,7] for i in [4,5]]"
      ],
      "metadata": {
        "colab": {
          "base_uri": "https://localhost:8080/",
          "height": 58
        },
        "id": "tjcv5cdq2LHl",
        "outputId": "700fdca3-0ffa-41bb-b926-01a99a211baf"
      },
      "execution_count": null,
      "outputs": [
        {
          "output_type": "execute_result",
          "data": {
            "text/plain": [
              "⎡1504  1487⎤\n",
              "⎢────, ────⎥\n",
              "⎣727   179 ⎦"
            ],
            "text/latex": "$\\displaystyle \\left[ \\frac{1504}{727}, \\  \\frac{1487}{179}\\right]$"
          },
          "metadata": {},
          "execution_count": 49
        }
      ]
    },
    {
      "cell_type": "code",
      "source": [
        "[0. + T[i,0] / T[i,7] for i in [4,5]]"
      ],
      "metadata": {
        "colab": {
          "base_uri": "https://localhost:8080/",
          "height": 37
        },
        "id": "5xUnGYLK2wgL",
        "outputId": "fc8d2cc5-1c62-41b1-d54f-8f9eee8b0598"
      },
      "execution_count": null,
      "outputs": [
        {
          "output_type": "execute_result",
          "data": {
            "text/plain": [
              "[2.0687757909216, 8.3072625698324]"
            ],
            "text/latex": "$\\displaystyle \\left[ 2.0687757909216, \\  8.3072625698324\\right]$"
          },
          "metadata": {},
          "execution_count": 50
        }
      ]
    },
    {
      "cell_type": "markdown",
      "source": [
        "The minimum ratio is $\\frac{1504}{727}$ and it occurs in row 4.\n",
        "Therefore, I choose row 4 as my pivot row. $x_b(4)$ $= y_4$ will exit the basis.\n",
        "\n",
        "Now, we need to compute the elementary row operations of the pivot.\n",
        "\n",
        "Replace Row 0 by itself plus $\\frac{2181M}{2181}+\\frac{1433}{2181}$ times the pivot row(i.e row 4)\n"
      ],
      "metadata": {
        "id": "xp0DZv_522u8"
      }
    },
    {
      "cell_type": "code",
      "source": [
        "T = T . elementary_row_op(op = 'n->n+km',row = 0,k=Rational(2181,2181)*M+Rational(1433,2181),row2 = 4)"
      ],
      "metadata": {
        "id": "l7IiLXVW4Fjo"
      },
      "execution_count": null,
      "outputs": []
    },
    {
      "cell_type": "markdown",
      "source": [
        "Replace Row 1 by itself plus $\\frac{53}{2181}$ times the pivot row(i.e row 4)"
      ],
      "metadata": {
        "id": "uitR-fYP7Gbd"
      }
    },
    {
      "cell_type": "code",
      "source": [
        "T = T . elementary_row_op(op = 'n->n+km',row = 1,k=Rational(53,2181),row2 = 4)"
      ],
      "metadata": {
        "id": "rFOVdVPo4nth"
      },
      "execution_count": null,
      "outputs": []
    },
    {
      "cell_type": "markdown",
      "source": [
        "Replace Row 2 by itself plus $\\frac{104}{2181}$ times the pivot row(i.e row 4)"
      ],
      "metadata": {
        "id": "M5X1YITk7HRf"
      }
    },
    {
      "cell_type": "code",
      "source": [
        "T = T . elementary_row_op(op = 'n->n+km',row = 2,k=Rational(104,2181),row2 = 4)"
      ],
      "metadata": {
        "id": "fHMDVSME4mjt"
      },
      "execution_count": null,
      "outputs": []
    },
    {
      "cell_type": "markdown",
      "source": [
        "Replace Row 3 by itself plus $\\frac{299}{2181}$ times the pivot row(i.e row 4)"
      ],
      "metadata": {
        "id": "GqfGELzv7Iad"
      }
    },
    {
      "cell_type": "code",
      "source": [
        "T = T . elementary_row_op(op = 'n->n+km',row = 3,k=Rational(299,2181),row2 = 4)"
      ],
      "metadata": {
        "id": "EJ5lKn9V4ig5"
      },
      "execution_count": null,
      "outputs": []
    },
    {
      "cell_type": "markdown",
      "source": [
        "Replace Row 5 by itself plus $\\frac{-179}{2181}$ times the pivot row(i.e row 4)"
      ],
      "metadata": {
        "id": "xiRIvDHs7JRx"
      }
    },
    {
      "cell_type": "code",
      "source": [
        "T = T . elementary_row_op(op = 'n->n+km',row = 5,k=-Rational(179,2181),row2 = 4)"
      ],
      "metadata": {
        "id": "mMksmQ2u4u1f"
      },
      "execution_count": null,
      "outputs": []
    },
    {
      "cell_type": "markdown",
      "source": [
        "Replace Row 6 by itself plus $\\frac{2360}{2181}$ times the pivot row(i.e row 4)"
      ],
      "metadata": {
        "id": "rum0yL4k7J20"
      }
    },
    {
      "cell_type": "code",
      "source": [
        "T = T . elementary_row_op(op = 'n->n+km',row = 6,k=Rational(2360,2181),row2 = 4)"
      ],
      "metadata": {
        "id": "S03EJeiV4vYz"
      },
      "execution_count": null,
      "outputs": []
    },
    {
      "cell_type": "markdown",
      "source": [
        "Multiply the pivot row(row 4) by $(\\frac{337}{727})$"
      ],
      "metadata": {
        "id": "UXZivlMu7Kmw"
      }
    },
    {
      "cell_type": "code",
      "source": [
        "T = T . elementary_row_op(op = 'n->kn',row = 4,k = Rational(337,727))"
      ],
      "metadata": {
        "id": "wUc3ZL0C6Q9D"
      },
      "execution_count": null,
      "outputs": []
    },
    {
      "cell_type": "markdown",
      "source": [
        "Updated Tableau:"
      ],
      "metadata": {
        "id": "EFWwtAP37Lih"
      }
    },
    {
      "cell_type": "code",
      "source": [
        "T"
      ],
      "metadata": {
        "colab": {
          "base_uri": "https://localhost:8080/",
          "height": 160
        },
        "id": "qd5YSZ4K4apm",
        "outputId": "d6198877-4552-4ef0-f612-bd44941694e4"
      },
      "execution_count": null,
      "outputs": [
        {
          "output_type": "execute_result",
          "data": {
            "text/plain": [
              "⎡-316                              1429   1433    1343    134               1429      1433      13 ↪\n",
              "⎢─────  0  0   0  0  0   0  0  0   ────   ────    ────    ───   M   M   M + ────  M + ────  M - ── ↪\n",
              "⎢ 727                              2181   2181    2181    727               2181      2181      21 ↪\n",
              "⎢                                                                                                  ↪\n",
              "⎢ 936                             -110     53    -343                    -110        53       343  ↪\n",
              "⎢ ───   0  0   0  0  0   1  0  0  ─────   ────   ─────   8/727  0   0    ─────      ────      ──── ↪\n",
              "⎢ 727                             2181    2181   2181                    2181       2181      2181 ↪\n",
              "⎢                                                                                                  ↪\n",
              "⎢1288                             -257    104    -385     98             -257       104       385  ↪\n",
              "⎢────   0  0   0  1  -1  0  0  0  ─────   ────   ─────    ───   0   0    ─────      ────      ──── ↪\n",
              "⎢727                              2181    2181   2181     727            2181       2181      2181 ↪\n",
              "⎢                                                                                                  ↪\n",
              "⎢1522                               79    299    -289     100              79       299       289  ↪\n",
              "⎢────   1  -1  0  0  0   0  0  0   ────   ────   ─────    ───   0   0     ────      ────      ──── ↪\n",
              "⎢727                               2181   2181   2181     727             2181      2181      2181 ↪\n",
              "⎢                                                                                                  ↪\n",
              "⎢1504                              55      337   -192    -12              55        337       192  ↪\n",
              "⎢────   0  0   0  0  0   0  1  0   ───     ───   ─────   ────   -1  0     ───       ───       ───  ↪\n",
              "⎢727                               727     727    727    727              727       727       727  ↪\n",
              "⎢                                                                                                  ↪\n",
              "⎢ 803                              -40    -179   -323     69              -40      -179       323  ↪\n",
              "⎢ ───   0  0   1  0  0   0  0  0   ────   ─────  ─────    ───   0   0     ────     ─────      ──── ↪\n",
              "⎢ 727                              2181   2181   2181     727             2181     2181       2181 ↪\n",
              "⎢                                                                                                  ↪\n",
              "⎢13737                            -2141   2360   -4039    658            -2141      2360      4039 ↪\n",
              "⎢─────  0  0   0  0  0   0  0  1  ──────  ────   ──────   ───   0   -1   ──────     ────      ──── ↪\n",
              "⎣ 727                              2181   2181    2181    727             2181      2181      2181 ↪\n",
              "\n",
              "↪ 43      134⎤\n",
              "↪ ──  M + ───⎥\n",
              "↪ 81      727⎥\n",
              "↪            ⎥\n",
              "↪            ⎥\n",
              "↪      8/727 ⎥\n",
              "↪            ⎥\n",
              "↪            ⎥\n",
              "↪       98   ⎥\n",
              "↪       ───  ⎥\n",
              "↪       727  ⎥\n",
              "↪            ⎥\n",
              "↪       100  ⎥\n",
              "↪       ───  ⎥\n",
              "↪       727  ⎥\n",
              "↪            ⎥\n",
              "↪      -12   ⎥\n",
              "↪      ────  ⎥\n",
              "↪      727   ⎥\n",
              "↪            ⎥\n",
              "↪       69   ⎥\n",
              "↪       ───  ⎥\n",
              "↪       727  ⎥\n",
              "↪            ⎥\n",
              "↪       658  ⎥\n",
              "↪       ───  ⎥\n",
              "↪       727  ⎦"
            ],
            "text/latex": "$\\displaystyle \\left[\\begin{array}{ccccccccccccccccccc}- \\frac{316}{727} & 0 & 0 & 0 & 0 & 0 & 0 & 0 & 0 & \\frac{1429}{2181} & \\frac{1433}{2181} & \\frac{1343}{2181} & \\frac{134}{727} & M & M & M + \\frac{1429}{2181} & M + \\frac{1433}{2181} & M - \\frac{1343}{2181} & M + \\frac{134}{727}\\\\\\frac{936}{727} & 0 & 0 & 0 & 0 & 0 & 1 & 0 & 0 & - \\frac{110}{2181} & \\frac{53}{2181} & - \\frac{343}{2181} & \\frac{8}{727} & 0 & 0 & - \\frac{110}{2181} & \\frac{53}{2181} & \\frac{343}{2181} & \\frac{8}{727}\\\\\\frac{1288}{727} & 0 & 0 & 0 & 1 & -1 & 0 & 0 & 0 & - \\frac{257}{2181} & \\frac{104}{2181} & - \\frac{385}{2181} & \\frac{98}{727} & 0 & 0 & - \\frac{257}{2181} & \\frac{104}{2181} & \\frac{385}{2181} & \\frac{98}{727}\\\\\\frac{1522}{727} & 1 & -1 & 0 & 0 & 0 & 0 & 0 & 0 & \\frac{79}{2181} & \\frac{299}{2181} & - \\frac{289}{2181} & \\frac{100}{727} & 0 & 0 & \\frac{79}{2181} & \\frac{299}{2181} & \\frac{289}{2181} & \\frac{100}{727}\\\\\\frac{1504}{727} & 0 & 0 & 0 & 0 & 0 & 0 & 1 & 0 & \\frac{55}{727} & \\frac{337}{727} & - \\frac{192}{727} & - \\frac{12}{727} & -1 & 0 & \\frac{55}{727} & \\frac{337}{727} & \\frac{192}{727} & - \\frac{12}{727}\\\\\\frac{803}{727} & 0 & 0 & 1 & 0 & 0 & 0 & 0 & 0 & - \\frac{40}{2181} & - \\frac{179}{2181} & - \\frac{323}{2181} & \\frac{69}{727} & 0 & 0 & - \\frac{40}{2181} & - \\frac{179}{2181} & \\frac{323}{2181} & \\frac{69}{727}\\\\\\frac{13737}{727} & 0 & 0 & 0 & 0 & 0 & 0 & 0 & 1 & - \\frac{2141}{2181} & \\frac{2360}{2181} & - \\frac{4039}{2181} & \\frac{658}{727} & 0 & -1 & - \\frac{2141}{2181} & \\frac{2360}{2181} & \\frac{4039}{2181} & \\frac{658}{727}\\end{array}\\right]$"
          },
          "metadata": {},
          "execution_count": 58
        }
      ]
    },
    {
      "cell_type": "markdown",
      "source": [
        "New basic variables: ${x_4,x^+_3,x^+_1,S_1,x_2,S_2}$\n"
      ],
      "metadata": {
        "id": "5V0C3hoD_Qs6"
      }
    },
    {
      "cell_type": "markdown",
      "source": [
        "# **The Algorithm Ends**"
      ],
      "metadata": {
        "id": "IWnfQy3x--jD"
      }
    },
    {
      "cell_type": "markdown",
      "source": [
        "All reduced costs are now nonnegative. The current basis is optimal and the algorithm stops. All artificial variables are at level zero.\n",
        "\n",
        "The top left entry of the tableau tells us that:\n",
        "\n",
        "Optimal objective: $\\frac{316}{727}$\n",
        "\n",
        "The other numbers in the zeroth column of the tableau are the basic components of the optimal basic feasible solution found by the Big-M method: $x_b(1)$$=x_4=\\frac{936}{727}$, $x_b(2)=x^+_3=\\frac{1288}{727}$, $x_b(3)=x^+_1=\\frac{1522}{727}$, $x_b(4)=S_1=\\frac{1504}{727}$, $x_b(5)=x_2=\\frac{803}{727}$, $x_b(6)=S_2=\\frac{13737}{727}$\n",
        "\n",
        "Optimal basic feasible solution: ($\\frac{1522}{727},0,$$\\frac{803}{727},$$\\frac{1288}{727},0,$$\\frac{936}{727}$, $\\frac{1504}{727}$, $\\frac{13737}{727}$$,0,0,0,0,0,0,0,0,0,0)$"
      ],
      "metadata": {
        "id": "R0-HJJo7_MPq"
      }
    }
  ],
  "metadata": {
    "colab": {
      "provenance": [],
      "include_colab_link": true
    },
    "kernelspec": {
      "display_name": "Python 3",
      "name": "python3"
    }
  },
  "nbformat": 4,
  "nbformat_minor": 0
}